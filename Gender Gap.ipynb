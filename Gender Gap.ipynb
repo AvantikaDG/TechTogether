{
 "cells": [
  {
   "cell_type": "markdown",
   "metadata": {},
   "source": [
    "# <center>Analyzing Factors Behind Gender Wage Gap</centers>"
   ]
  },
  {
   "cell_type": "markdown",
   "metadata": {},
   "source": [
    "__Goal__: To provide insightful analysis on employer factors related to the pay gap"
   ]
  },
  {
   "cell_type": "code",
   "execution_count": 1,
   "metadata": {},
   "outputs": [],
   "source": [
    "import pandas as pd\n",
    "import numpy as np\n",
    "import matplotlib.pyplot as plt\n",
    "import operator\n",
    "import seaborn as sns\n",
    "%matplotlib inline"
   ]
  },
  {
   "cell_type": "code",
   "execution_count": 2,
   "metadata": {},
   "outputs": [],
   "source": [
    "gpg1718 = pd.read_csv(r\"C:\\Users\\AvantikaDG\\Desktop\\Wage Gap\\sicwagegap1718.csv\")\n",
    "gpg1819 = pd.read_csv(r\"C:\\Users\\AvantikaDG\\Desktop\\Wage Gap\\sicwagegap1819.csv\")\n",
    "siccodes = pd.read_csv(r\"C:\\Users\\AvantikaDG\\Desktop\\Wage Gap\\SicCodes.csv\")\n",
    "sic_mf = pd.read_csv(r\"C:\\Users\\AvantikaDG\\Desktop\\Wage Gap\\sic_malefemale.csv\", na_values=[' ','','*'])\n",
    "uk_pay_by_age = pd.read_csv(r\"C:\\Users\\AvantikaDG\\Desktop\\Wage Gap\\ukPayByAgeWomen.csv\")\n",
    "gender_race = pd.read_csv(r\"C:\\Users\\AvantikaDG\\Desktop\\Wage Gap\\genderRace.csv\")\n",
    "location_pay = pd.read_csv(r\"C:\\Users\\AvantikaDG\\Desktop\\Wage Gap\\locationPay.csv\")"
   ]
  },
  {
   "cell_type": "markdown",
   "metadata": {},
   "source": [
    "### Datasets:\n",
    "1. Gender Pay Gap Data for 2017-2018 and 2018-2019 (https://gender-pay-gap.service.gov.uk/)"
   ]
  },
  {
   "cell_type": "code",
   "execution_count": 3,
   "metadata": {
    "scrolled": false
   },
   "outputs": [
    {
     "data": {
      "text/html": [
       "<div>\n",
       "<style scoped>\n",
       "    .dataframe tbody tr th:only-of-type {\n",
       "        vertical-align: middle;\n",
       "    }\n",
       "\n",
       "    .dataframe tbody tr th {\n",
       "        vertical-align: top;\n",
       "    }\n",
       "\n",
       "    .dataframe thead th {\n",
       "        text-align: right;\n",
       "    }\n",
       "</style>\n",
       "<table border=\"1\" class=\"dataframe\">\n",
       "  <thead>\n",
       "    <tr style=\"text-align: right;\">\n",
       "      <th></th>\n",
       "      <th>EmployerName</th>\n",
       "      <th>Address</th>\n",
       "      <th>CompanyNumber</th>\n",
       "      <th>SicCodes</th>\n",
       "      <th>DiffMeanHourlyPercent</th>\n",
       "      <th>DiffMedianHourlyPercent</th>\n",
       "      <th>DiffMeanBonusPercent</th>\n",
       "      <th>DiffMedianBonusPercent</th>\n",
       "      <th>MaleBonusPercent</th>\n",
       "      <th>FemaleBonusPercent</th>\n",
       "      <th>...</th>\n",
       "      <th>FemaleUpperMiddleQuartile</th>\n",
       "      <th>MaleTopQuartile</th>\n",
       "      <th>FemaleTopQuartile</th>\n",
       "      <th>CompanyLinkToGPGInfo</th>\n",
       "      <th>ResponsiblePerson</th>\n",
       "      <th>EmployerSize</th>\n",
       "      <th>CurrentName</th>\n",
       "      <th>SubmittedAfterTheDeadline</th>\n",
       "      <th>DueDate</th>\n",
       "      <th>DateSubmitted</th>\n",
       "    </tr>\n",
       "  </thead>\n",
       "  <tbody>\n",
       "    <tr>\n",
       "      <th>0</th>\n",
       "      <td>\"Bryanston School\" Incorporated</td>\n",
       "      <td>Bryanston House  Blandford  Dorset  United Kin...</td>\n",
       "      <td>00226143</td>\n",
       "      <td>85310</td>\n",
       "      <td>18.0</td>\n",
       "      <td>28.2</td>\n",
       "      <td>0.0</td>\n",
       "      <td>0.0</td>\n",
       "      <td>0.0</td>\n",
       "      <td>0.0</td>\n",
       "      <td>...</td>\n",
       "      <td>50.8</td>\n",
       "      <td>51.5</td>\n",
       "      <td>48.5</td>\n",
       "      <td>https://www.bryanston.co.uk/employment</td>\n",
       "      <td>Nick McRobb (Bursar and Clerk to the Governors)</td>\n",
       "      <td>500 to 999</td>\n",
       "      <td>\"Bryanston School\" Incorporated</td>\n",
       "      <td>False</td>\n",
       "      <td>05/04/2018 00:00:00</td>\n",
       "      <td>27/03/2018 11:42:49</td>\n",
       "    </tr>\n",
       "    <tr>\n",
       "      <th>1</th>\n",
       "      <td>\"RED BAND\" CHEMICAL COMPANY  LIMITED</td>\n",
       "      <td>19  Smith's Place  Leith Walk  Edinburgh  EH6 8NU</td>\n",
       "      <td>SC016876</td>\n",
       "      <td>47730</td>\n",
       "      <td>2.3</td>\n",
       "      <td>-2.7</td>\n",
       "      <td>15.0</td>\n",
       "      <td>37.5</td>\n",
       "      <td>15.6</td>\n",
       "      <td>66.7</td>\n",
       "      <td>...</td>\n",
       "      <td>89.7</td>\n",
       "      <td>18.1</td>\n",
       "      <td>81.9</td>\n",
       "      <td>NaN</td>\n",
       "      <td>Philip Galt (Managing Director)</td>\n",
       "      <td>250 to 499</td>\n",
       "      <td>\"RED BAND\" CHEMICAL COMPANY  LIMITED</td>\n",
       "      <td>False</td>\n",
       "      <td>05/04/2018 00:00:00</td>\n",
       "      <td>28/03/2018 16:44:25</td>\n",
       "    </tr>\n",
       "  </tbody>\n",
       "</table>\n",
       "<p>2 rows × 25 columns</p>\n",
       "</div>"
      ],
      "text/plain": [
       "                           EmployerName  \\\n",
       "0       \"Bryanston School\" Incorporated   \n",
       "1  \"RED BAND\" CHEMICAL COMPANY  LIMITED   \n",
       "\n",
       "                                             Address CompanyNumber SicCodes  \\\n",
       "0  Bryanston House  Blandford  Dorset  United Kin...      00226143    85310   \n",
       "1  19  Smith's Place  Leith Walk  Edinburgh  EH6 8NU      SC016876    47730   \n",
       "\n",
       "   DiffMeanHourlyPercent  DiffMedianHourlyPercent  DiffMeanBonusPercent  \\\n",
       "0                   18.0                     28.2                   0.0   \n",
       "1                    2.3                     -2.7                  15.0   \n",
       "\n",
       "   DiffMedianBonusPercent  MaleBonusPercent  FemaleBonusPercent  ...  \\\n",
       "0                     0.0               0.0                 0.0  ...   \n",
       "1                    37.5              15.6                66.7  ...   \n",
       "\n",
       "   FemaleUpperMiddleQuartile  MaleTopQuartile  FemaleTopQuartile  \\\n",
       "0                       50.8             51.5               48.5   \n",
       "1                       89.7             18.1               81.9   \n",
       "\n",
       "                     CompanyLinkToGPGInfo  \\\n",
       "0  https://www.bryanston.co.uk/employment   \n",
       "1                                     NaN   \n",
       "\n",
       "                                 ResponsiblePerson  EmployerSize  \\\n",
       "0  Nick McRobb (Bursar and Clerk to the Governors)    500 to 999   \n",
       "1                  Philip Galt (Managing Director)    250 to 499   \n",
       "\n",
       "                            CurrentName  SubmittedAfterTheDeadline  \\\n",
       "0       \"Bryanston School\" Incorporated                      False   \n",
       "1  \"RED BAND\" CHEMICAL COMPANY  LIMITED                      False   \n",
       "\n",
       "               DueDate        DateSubmitted  \n",
       "0  05/04/2018 00:00:00  27/03/2018 11:42:49  \n",
       "1  05/04/2018 00:00:00  28/03/2018 16:44:25  \n",
       "\n",
       "[2 rows x 25 columns]"
      ]
     },
     "execution_count": 3,
     "metadata": {},
     "output_type": "execute_result"
    }
   ],
   "source": [
    "gpg1718.head(2)"
   ]
  },
  {
   "cell_type": "code",
   "execution_count": 4,
   "metadata": {},
   "outputs": [
    {
     "name": "stdout",
     "output_type": "stream",
     "text": [
      "Columns:\n"
     ]
    },
    {
     "data": {
      "text/plain": [
       "['EmployerName',\n",
       " 'Address',\n",
       " 'CompanyNumber',\n",
       " 'SicCodes',\n",
       " 'DiffMeanHourlyPercent',\n",
       " 'DiffMedianHourlyPercent',\n",
       " 'DiffMeanBonusPercent',\n",
       " 'DiffMedianBonusPercent',\n",
       " 'MaleBonusPercent',\n",
       " 'FemaleBonusPercent',\n",
       " 'MaleLowerQuartile',\n",
       " 'FemaleLowerQuartile',\n",
       " 'MaleLowerMiddleQuartile',\n",
       " 'FemaleLowerMiddleQuartile',\n",
       " 'MaleUpperMiddleQuartile',\n",
       " 'FemaleUpperMiddleQuartile',\n",
       " 'MaleTopQuartile',\n",
       " 'FemaleTopQuartile',\n",
       " 'CompanyLinkToGPGInfo',\n",
       " 'ResponsiblePerson',\n",
       " 'EmployerSize',\n",
       " 'CurrentName',\n",
       " 'SubmittedAfterTheDeadline',\n",
       " 'DueDate',\n",
       " 'DateSubmitted']"
      ]
     },
     "execution_count": 4,
     "metadata": {},
     "output_type": "execute_result"
    }
   ],
   "source": [
    "print(\"Columns:\")\n",
    "list(gpg1718.columns)"
   ]
  },
  {
   "cell_type": "markdown",
   "metadata": {},
   "source": [
    "2. SIC Codes and their Names (https://www.gov.uk/government/uploads/system/uploads/attachment_data/file/527619/SIC07_CH_condensed_list_en.csv/preview)"
   ]
  },
  {
   "cell_type": "code",
   "execution_count": 5,
   "metadata": {
    "scrolled": true
   },
   "outputs": [
    {
     "data": {
      "text/html": [
       "<div>\n",
       "<style scoped>\n",
       "    .dataframe tbody tr th:only-of-type {\n",
       "        vertical-align: middle;\n",
       "    }\n",
       "\n",
       "    .dataframe tbody tr th {\n",
       "        vertical-align: top;\n",
       "    }\n",
       "\n",
       "    .dataframe thead th {\n",
       "        text-align: right;\n",
       "    }\n",
       "</style>\n",
       "<table border=\"1\" class=\"dataframe\">\n",
       "  <thead>\n",
       "    <tr style=\"text-align: right;\">\n",
       "      <th></th>\n",
       "      <th>SIC Code</th>\n",
       "      <th>Description</th>\n",
       "    </tr>\n",
       "  </thead>\n",
       "  <tbody>\n",
       "    <tr>\n",
       "      <th>0</th>\n",
       "      <td>1110</td>\n",
       "      <td>Growing of cereals (except rice), leguminous c...</td>\n",
       "    </tr>\n",
       "    <tr>\n",
       "      <th>1</th>\n",
       "      <td>1120</td>\n",
       "      <td>Growing of rice</td>\n",
       "    </tr>\n",
       "    <tr>\n",
       "      <th>2</th>\n",
       "      <td>1130</td>\n",
       "      <td>Growing of vegetables and melons, roots and tu...</td>\n",
       "    </tr>\n",
       "  </tbody>\n",
       "</table>\n",
       "</div>"
      ],
      "text/plain": [
       "   SIC Code                                        Description\n",
       "0      1110  Growing of cereals (except rice), leguminous c...\n",
       "1      1120                                    Growing of rice\n",
       "2      1130  Growing of vegetables and melons, roots and tu..."
      ]
     },
     "execution_count": 5,
     "metadata": {},
     "output_type": "execute_result"
    }
   ],
   "source": [
    "siccodes.head(3)"
   ]
  },
  {
   "cell_type": "markdown",
   "metadata": {},
   "source": [
    "3. Self Employed Males and Females per SIC Sector (https://www.ons.gov.uk/employmentandlabourmarket/peopleinwork/employmentandemployeetypes/adhocs/0069114digitsicindustrycodesbyselfemployedstatussplitbymaleandfemales)\n",
    "Assumption: These figures are representative of salaried employees"
   ]
  },
  {
   "cell_type": "code",
   "execution_count": 6,
   "metadata": {
    "scrolled": true
   },
   "outputs": [
    {
     "data": {
      "text/html": [
       "<div>\n",
       "<style scoped>\n",
       "    .dataframe tbody tr th:only-of-type {\n",
       "        vertical-align: middle;\n",
       "    }\n",
       "\n",
       "    .dataframe tbody tr th {\n",
       "        vertical-align: top;\n",
       "    }\n",
       "\n",
       "    .dataframe thead th {\n",
       "        text-align: right;\n",
       "    }\n",
       "</style>\n",
       "<table border=\"1\" class=\"dataframe\">\n",
       "  <thead>\n",
       "    <tr style=\"text-align: right;\">\n",
       "      <th></th>\n",
       "      <th>Code</th>\n",
       "      <th>Desc</th>\n",
       "      <th>Male</th>\n",
       "      <th>Female</th>\n",
       "    </tr>\n",
       "  </thead>\n",
       "  <tbody>\n",
       "    <tr>\n",
       "      <th>0</th>\n",
       "      <td>1110</td>\n",
       "      <td>Growing of cereals, except rice</td>\n",
       "      <td>1538.0</td>\n",
       "      <td>NaN</td>\n",
       "    </tr>\n",
       "    <tr>\n",
       "      <th>1</th>\n",
       "      <td>1120</td>\n",
       "      <td>Growing of rice</td>\n",
       "      <td>NaN</td>\n",
       "      <td>NaN</td>\n",
       "    </tr>\n",
       "    <tr>\n",
       "      <th>2</th>\n",
       "      <td>1130</td>\n",
       "      <td>Grwng veg &amp; melons, roots &amp; tubers</td>\n",
       "      <td>1530.0</td>\n",
       "      <td>654.0</td>\n",
       "    </tr>\n",
       "  </tbody>\n",
       "</table>\n",
       "</div>"
      ],
      "text/plain": [
       "   Code                                Desc    Male  Female\n",
       "0  1110     Growing of cereals, except rice  1538.0     NaN\n",
       "1  1120                     Growing of rice     NaN     NaN\n",
       "2  1130  Grwng veg & melons, roots & tubers  1530.0   654.0"
      ]
     },
     "execution_count": 6,
     "metadata": {},
     "output_type": "execute_result"
    }
   ],
   "source": [
    "sic_mf.head(3)"
   ]
  },
  {
   "cell_type": "markdown",
   "metadata": {},
   "source": [
    "4. Aggregate Salary of Women per Age Group ()"
   ]
  },
  {
   "cell_type": "code",
   "execution_count": 7,
   "metadata": {
    "scrolled": false
   },
   "outputs": [
    {
     "data": {
      "text/html": [
       "<div>\n",
       "<style scoped>\n",
       "    .dataframe tbody tr th:only-of-type {\n",
       "        vertical-align: middle;\n",
       "    }\n",
       "\n",
       "    .dataframe tbody tr th {\n",
       "        vertical-align: top;\n",
       "    }\n",
       "\n",
       "    .dataframe thead th {\n",
       "        text-align: right;\n",
       "    }\n",
       "</style>\n",
       "<table border=\"1\" class=\"dataframe\">\n",
       "  <thead>\n",
       "    <tr style=\"text-align: right;\">\n",
       "      <th></th>\n",
       "      <th>Age</th>\n",
       "      <th>All</th>\n",
       "      <th>FullTime</th>\n",
       "      <th>PartTime</th>\n",
       "      <th>PartTimePerc</th>\n",
       "    </tr>\n",
       "  </thead>\n",
       "  <tbody>\n",
       "    <tr>\n",
       "      <th>0</th>\n",
       "      <td>16-17</td>\n",
       "      <td>-2.4</td>\n",
       "      <td>9.0</td>\n",
       "      <td>0.0</td>\n",
       "      <td>93</td>\n",
       "    </tr>\n",
       "    <tr>\n",
       "      <th>1</th>\n",
       "      <td>18-21</td>\n",
       "      <td>1.4</td>\n",
       "      <td>1.9</td>\n",
       "      <td>0.2</td>\n",
       "      <td>62</td>\n",
       "    </tr>\n",
       "    <tr>\n",
       "      <th>2</th>\n",
       "      <td>22-29</td>\n",
       "      <td>6.4</td>\n",
       "      <td>1.3</td>\n",
       "      <td>0.1</td>\n",
       "      <td>28</td>\n",
       "    </tr>\n",
       "  </tbody>\n",
       "</table>\n",
       "</div>"
      ],
      "text/plain": [
       "         Age  All  FullTime  PartTime  PartTimePerc\n",
       "0      16-17 -2.4       9.0       0.0            93\n",
       "1      18-21  1.4       1.9       0.2            62\n",
       "2      22-29  6.4       1.3       0.1            28"
      ]
     },
     "execution_count": 7,
     "metadata": {},
     "output_type": "execute_result"
    }
   ],
   "source": [
    "uk_pay_by_age.head(3)"
   ]
  },
  {
   "cell_type": "markdown",
   "metadata": {},
   "source": [
    "5. Weekly Median Income of Races and Genders in 2017 and 2018 (https://www.bls.gov/cps/cpsaat37.pdf)"
   ]
  },
  {
   "cell_type": "code",
   "execution_count": 8,
   "metadata": {
    "scrolled": true
   },
   "outputs": [
    {
     "data": {
      "text/html": [
       "<div>\n",
       "<style scoped>\n",
       "    .dataframe tbody tr th:only-of-type {\n",
       "        vertical-align: middle;\n",
       "    }\n",
       "\n",
       "    .dataframe tbody tr th {\n",
       "        vertical-align: top;\n",
       "    }\n",
       "\n",
       "    .dataframe thead th {\n",
       "        text-align: right;\n",
       "    }\n",
       "</style>\n",
       "<table border=\"1\" class=\"dataframe\">\n",
       "  <thead>\n",
       "    <tr style=\"text-align: right;\">\n",
       "      <th></th>\n",
       "      <th>Race</th>\n",
       "      <th>Gender</th>\n",
       "      <th>Year</th>\n",
       "      <th>MedianWeekly</th>\n",
       "    </tr>\n",
       "  </thead>\n",
       "  <tbody>\n",
       "    <tr>\n",
       "      <th>0</th>\n",
       "      <td>White</td>\n",
       "      <td>Male</td>\n",
       "      <td>2017</td>\n",
       "      <td>971</td>\n",
       "    </tr>\n",
       "    <tr>\n",
       "      <th>1</th>\n",
       "      <td>White</td>\n",
       "      <td>Female</td>\n",
       "      <td>2017</td>\n",
       "      <td>795</td>\n",
       "    </tr>\n",
       "    <tr>\n",
       "      <th>2</th>\n",
       "      <td>White</td>\n",
       "      <td>Male</td>\n",
       "      <td>2018</td>\n",
       "      <td>1002</td>\n",
       "    </tr>\n",
       "  </tbody>\n",
       "</table>\n",
       "</div>"
      ],
      "text/plain": [
       "    Race  Gender  Year  MedianWeekly\n",
       "0  White    Male  2017           971\n",
       "1  White  Female  2017           795\n",
       "2  White    Male  2018          1002"
      ]
     },
     "execution_count": 8,
     "metadata": {},
     "output_type": "execute_result"
    }
   ],
   "source": [
    "gender_race.head(3)"
   ]
  },
  {
   "cell_type": "markdown",
   "metadata": {},
   "source": [
    "6. Median Weekly Salary of Men and Women based on location for 2017 (https://data.london.gov.uk/dataset/earnings-workplace-borough)"
   ]
  },
  {
   "cell_type": "code",
   "execution_count": 9,
   "metadata": {
    "scrolled": true
   },
   "outputs": [
    {
     "data": {
      "text/html": [
       "<div>\n",
       "<style scoped>\n",
       "    .dataframe tbody tr th:only-of-type {\n",
       "        vertical-align: middle;\n",
       "    }\n",
       "\n",
       "    .dataframe tbody tr th {\n",
       "        vertical-align: top;\n",
       "    }\n",
       "\n",
       "    .dataframe thead th {\n",
       "        text-align: right;\n",
       "    }\n",
       "</style>\n",
       "<table border=\"1\" class=\"dataframe\">\n",
       "  <thead>\n",
       "    <tr style=\"text-align: right;\">\n",
       "      <th></th>\n",
       "      <th>Area</th>\n",
       "      <th>femaleWeekly2017</th>\n",
       "      <th>maleWeekly2017</th>\n",
       "    </tr>\n",
       "  </thead>\n",
       "  <tbody>\n",
       "    <tr>\n",
       "      <th>0</th>\n",
       "      <td>City of London</td>\n",
       "      <td>799.6</td>\n",
       "      <td>1149.9</td>\n",
       "    </tr>\n",
       "    <tr>\n",
       "      <th>1</th>\n",
       "      <td>Barking and Dagenham</td>\n",
       "      <td>493.2</td>\n",
       "      <td>656.1</td>\n",
       "    </tr>\n",
       "    <tr>\n",
       "      <th>2</th>\n",
       "      <td>Barnet</td>\n",
       "      <td>542.2</td>\n",
       "      <td>657.7</td>\n",
       "    </tr>\n",
       "  </tbody>\n",
       "</table>\n",
       "</div>"
      ],
      "text/plain": [
       "                   Area  femaleWeekly2017  maleWeekly2017\n",
       "0        City of London             799.6          1149.9\n",
       "1  Barking and Dagenham             493.2           656.1\n",
       "2                Barnet             542.2           657.7"
      ]
     },
     "execution_count": 9,
     "metadata": {},
     "output_type": "execute_result"
    }
   ],
   "source": [
    "location_pay.head(3)"
   ]
  },
  {
   "cell_type": "markdown",
   "metadata": {},
   "source": [
    "Let us check out the data for 2017-2018 for UK companies' salary! A little bit of EDA will help us understand the data and the problem at hand better. What are the highest, lowest and median wage gaps?"
   ]
  },
  {
   "cell_type": "code",
   "execution_count": 33,
   "metadata": {
    "scrolled": false
   },
   "outputs": [
    {
     "name": "stdout",
     "output_type": "stream",
     "text": [
      "The highest wage gap is: 121.2\n",
      "The lowest wage gap is: -196.5\n",
      "The average wage gap is: 11.79\n",
      "It turns out that the biggest difference in median hourly percent is when a woman earns more!\n",
      "But, in the average case, men earn ~12% more per hour - which leads us to believe that maybe these high pro-women wage gaps exist in certain female-dominated industries (verifiable)\n",
      "The top 10 wage gaps where women earn more are: [-196.5 -164.  -103.6 -100.1  -85.2  -85.2  -81.9  -81.3  -80.6  -80.6\n",
      "  -77.   -76.   -74.3  -61.4  -61.   -57.9  -57.5  -56.   -55.8  -54.8]\n",
      "The top 10 wage gaps where men earn more are: [121.2  97.   79.8  75.7  73.   71.8  71.   69.   68.5  68.2  68.1  67.5\n",
      "  67.4  66.   65.9  65.8  65.3  65.   65.   63.7]\n"
     ]
    }
   ],
   "source": [
    "# What are the highest, lowest and median wage gaps? (Based off median pay)\n",
    "print(\"The highest wage gap is:\",max(gpg1718.DiffMedianHourlyPercent))\n",
    "print(\"The lowest wage gap is:\",min(gpg1718.DiffMedianHourlyPercent))\n",
    "print(\"The average wage gap is:\",round(np.mean(gpg1718.DiffMedianHourlyPercent),2))\n",
    "print(\"It turns out that the biggest difference in median hourly percent is when a woman earns more!\")\n",
    "print(\"But, in the average case, men earn ~12% more per hour - which leads us to believe that maybe these high pro-women wage gaps exist in certain female-dominated industries (verifiable)\")\n",
    "print(\"The top 10 wage gaps where women earn more are:\",np.sort(gpg1718.DiffMedianHourlyPercent)[0:20])\n",
    "print(\"The top 10 wage gaps where men earn more are:\", -np.sort(-gpg1718.DiffMedianHourlyPercent)[0:20])"
   ]
  },
  {
   "cell_type": "markdown",
   "metadata": {},
   "source": [
    "Now let's go to the 2018-2019 data!"
   ]
  },
  {
   "cell_type": "code",
   "execution_count": 36,
   "metadata": {
    "scrolled": true
   },
   "outputs": [
    {
     "name": "stdout",
     "output_type": "stream",
     "text": [
      "The highest wage gap is: 79.3\n",
      "The lowest wage gap is: -90.7\n",
      "The average wage gap is: 11.16\n",
      "It turns out that the biggest difference in median hourly percent is when a woman earns more, but the numbers are less drastic than the previous cycle.\n",
      "The average case has gone from a wage gap of $11.79 to $11.16. Although an improvement, it is not very significant.\n",
      "The top 10 wage gaps where women earn more are: [-90.7 -80.7 -67.5 -59.2 -53.9 -52.5 -45.8 -44.3 -41.3 -39.  -38.6 -38.\n",
      " -38.  -36.4 -36.4 -36.2 -33.6 -32.7 -32.3 -31.9]\n",
      "The top 10 wage gaps where men earn more are: [79.3 66.  66.  66.  65.  64.8 63.2 62.  60.8 60.7 59.9 59.7 59.  58.\n",
      " 58.  57.4 57.4 57.  56.6 55.5]\n"
     ]
    }
   ],
   "source": [
    "# What are the highest, lowest and median wage gaps? (Based off median pay)\n",
    "print(\"The highest wage gap is:\",max(gpg1819.DiffMedianHourlyPercent))\n",
    "print(\"The lowest wage gap is:\",min(gpg1819.DiffMedianHourlyPercent))\n",
    "print(\"The average wage gap is:\",round(np.mean(gpg1819.DiffMedianHourlyPercent),2))\n",
    "print(\"It turns out that the biggest difference in median hourly percent is when a woman earns more, but the numbers are less drastic than the previous cycle.\")\n",
    "print(\"The average case has gone from a wage gap of $11.79 to $11.16. Although an improvement, it is not very significant.\")\n",
    "print(\"The top 10 wage gaps where women earn more are:\",np.sort(gpg1819.DiffMedianHourlyPercent)[0:20])\n",
    "print(\"The top 10 wage gaps where men earn more are:\", -np.sort(-gpg1819.DiffMedianHourlyPercent)[0:20])"
   ]
  },
  {
   "cell_type": "markdown",
   "metadata": {},
   "source": [
    "Now that we have a general feel of this dataset and the kind of numbers, let's drill-down on another level. SIC Codes are indicators of a company's sector. One company may belong to more then one sector. Let us examine if the wage gap has a relationship with the sector of the company..."
   ]
  },
  {
   "cell_type": "code",
   "execution_count": 37,
   "metadata": {},
   "outputs": [],
   "source": [
    "sics = []\n",
    "siccounts = dict()\n",
    "for index, row in gpg1718.iterrows():\n",
    "    sics = str(row.SicCodes).split(sep = \" \")\n",
    "    for code in sics:\n",
    "        if code in siccounts.keys():\n",
    "            siccounts[code] = siccounts[code] + 1\n",
    "        else:\n",
    "            if code != 'nan' and code != '' and code != ' ':\n",
    "                siccounts[code] = 1\n",
    "sorted_x = sorted(siccounts.items(), key=operator.itemgetter(1), reverse=True)\n",
    "sorted_sics = pd.DataFrame(sorted_x, columns = [\"Code\", \"Count\"])\n",
    "siccodes = siccodes.astype({\"SIC Code\": str})"
   ]
  },
  {
   "cell_type": "code",
   "execution_count": 38,
   "metadata": {},
   "outputs": [],
   "source": [
    "sic_mapped = siccodes.merge(sorted_sics, left_on='SIC Code', right_on='Code')\n",
    "sic_mapped = sic_mapped.sort_values('Count', ascending=False)\n",
    "top_sic = sic_mapped.head(10).Code\n",
    "diff_top_sics = dict()\n",
    "diff_top_sics_codes = dict()\n",
    "for code in top_sic:\n",
    "    code_desc = siccodes.Description[siccodes['SIC Code']==code]\n",
    "    diff_top_sics[list(code_desc)[0]] = np.mean(gpg1718.DiffMedianHourlyPercent[gpg1718.SicCodes.str.contains(str(code), na=False)])\n",
    "    diff_top_sics_codes[str(code)] = np.mean(gpg1718.DiffMedianHourlyPercent[gpg1718.SicCodes.str.contains(str(code), na=False)])"
   ]
  },
  {
   "cell_type": "code",
   "execution_count": 39,
   "metadata": {
    "scrolled": true
   },
   "outputs": [
    {
     "data": {
      "image/png": "[encoded data removed]",
      "text/plain": [
       "<Figure size 432x288 with 1 Axes>"
      ]
     },
     "metadata": {
      "needs_background": "light"
     },
     "output_type": "display_data"
    }
   ],
   "source": [
    "plt.barh(list(diff_top_sics.keys()), list(diff_top_sics.values()), color = \"purple\")\n",
    "plt.title(\"Wage Gap % (Men over Women) by Sector\")\n",
    "plt.xlabel(\"% Difference in Hourly Median\")\n",
    "plt.ylabel(\"Sector\");"
   ]
  },
  {
   "cell_type": "markdown",
   "metadata": {},
   "source": [
    "It looks like there is a general trend of women getting paid less than men (no negative figures in this chart). We have taken the 10 most populated sectors (based on number of companies) to try and see whether we can derive any insights from this data. \n",
    "\n",
    "The lowest wage gap of ~2.5% is in health activities, while the highest are in primary education and general secondary education. This is an interesting insight, considering the ratio of females to males in the field of primary education is approximately 3:1 (verifiable in dataset sic_mf)."
   ]
  },
  {
   "cell_type": "markdown",
   "metadata": {},
   "source": [
    "The next step is to analyze the relationship between proportion of males and females in a field with wage gap."
   ]
  },
  {
   "cell_type": "code",
   "execution_count": 40,
   "metadata": {},
   "outputs": [],
   "source": [
    "sic_mf_notnull = sic_mf[pd.notnull(sic_mf[\"Male\"]) & pd.notnull(sic_mf[\"Female\"])]\n",
    "ratio = dict()\n",
    "for index, row in sic_mf_notnull.iterrows():\n",
    "    if str(row.Code) in top_sic.to_list():\n",
    "        ratio[str(row.Code)] = row.Male/row.Female\n",
    "s = sorted(diff_top_sics_codes)\n",
    "sector = []\n",
    "ratios = []\n",
    "wagegap = []\n",
    "for sic in s:\n",
    "    sector.append(sic)\n",
    "    ratios.append(ratio[sic])\n",
    "    wagegap.append(diff_top_sics_codes[sic])\n",
    "ratios=np.divide(1, ratios)"
   ]
  },
  {
   "cell_type": "code",
   "execution_count": 41,
   "metadata": {},
   "outputs": [
    {
     "data": {
      "image/png": "[encoded data removed]",
      "text/plain": [
       "<Figure size 432x288 with 1 Axes>"
      ]
     },
     "metadata": {
      "needs_background": "light"
     },
     "output_type": "display_data"
    }
   ],
   "source": [
    "plt.scatter(ratios, wagegap)\n",
    "plt.stem(ratios,wagegap)\n",
    "plt.title(\" Female:Male Ratio\")\n",
    "plt.xlabel(\"Female:Male Employee Ratio\")\n",
    "plt.ylabel(\"Wage Gap % (Men over Women)\")\n",
    "plt.xticks(ratios, rotation = (90));\n",
    "#No trend"
   ]
  },
  {
   "cell_type": "markdown",
   "metadata": {},
   "source": [
    "We have taken the same top 10 sectors and found the female : male ratio in each of them, along with the wage gap. It seems like there is no discernable relationship between the proportion of males and females and the wage gap in a sector based on this sample. Perhaps extensive sampling will yield better results."
   ]
  },
  {
   "cell_type": "markdown",
   "metadata": {},
   "source": [
    "So, we move on to another employer attribute that intuitively seems like a probable factor that contributes to wage gap - Size of the company (in terms of employees). In general, we assume that companies with more employees have greater revenue and more stringent HR policies around equality and non-discrimination (which is why the employees remain). "
   ]
  },
  {
   "cell_type": "code",
   "execution_count": 42,
   "metadata": {},
   "outputs": [],
   "source": [
    "sizecounts = dict()\n",
    "for index, row in gpg1718.iterrows():\n",
    "    size = str(row.EmployerSize)\n",
    "    if size in sizecounts.keys():\n",
    "        sizecounts[size] = sizecounts[size] + 1\n",
    "    else:\n",
    "        if size != 'nan' and size != '' and size != ' ':\n",
    "            sizecounts[size] = 1\n",
    "wagegaps = []\n",
    "for size in sizecounts.keys():\n",
    "    wagegaps.append(np.mean(gpg1718.DiffMedianHourlyPercent[gpg1718.EmployerSize == size]))"
   ]
  },
  {
   "cell_type": "code",
   "execution_count": 43,
   "metadata": {},
   "outputs": [],
   "source": [
    "sizecounts.keys()\n",
    "szcnt = ['Not Provided', 'Less than 250', '250 to 499','500 to 999', '1000 to 4999', '5000 to 19 999', '20 000 or more']\n",
    "wg = [wagegaps[4],wagegaps[5], wagegaps[1], wagegaps[0], wagegaps[3], wagegaps[2], wagegaps[6]]"
   ]
  },
  {
   "cell_type": "code",
   "execution_count": 45,
   "metadata": {
    "scrolled": true
   },
   "outputs": [
    {
     "data": {
      "image/png": "[encoded data removed]",
      "text/plain": [
       "<Figure size 432x288 with 1 Axes>"
      ]
     },
     "metadata": {
      "needs_background": "light"
     },
     "output_type": "display_data"
    }
   ],
   "source": [
    "plt.barh(szcnt, wg, color = \"lightblue\")\n",
    "plt.title(\"Wage Gap % (Men over Women) by Size of Employer\")\n",
    "plt.xlabel(\"% Difference in Hourly Median\")\n",
    "plt.ylabel(\"Employer Size (in employees)\");"
   ]
  },
  {
   "cell_type": "markdown",
   "metadata": {},
   "source": [
    "Well, it turns out that common sense has a part to play in analytics (I hope sampling doesn't prove me wrong!). We see a regular decline in the wage gap with increasing number of employees in companies. Had these bins been more granular, we might have been able to visualize the trend with more data points. However, it is quite convincing that the size of the company causes a fall in wage gap between men and women!"
   ]
  },
  {
   "cell_type": "markdown",
   "metadata": {},
   "source": [
    "This leads us to wonder, what other factors could contribute to this? Let's have a look at age."
   ]
  },
  {
   "cell_type": "code",
   "execution_count": 21,
   "metadata": {
    "scrolled": false
   },
   "outputs": [
    {
     "data": {
      "image/png": "[encoded data removed]",
      "text/plain": [
       "<Figure size 432x288 with 1 Axes>"
      ]
     },
     "metadata": {
      "needs_background": "light"
     },
     "output_type": "display_data"
    }
   ],
   "source": [
    "plt.bar(uk_pay_by_age.Age, uk_pay_by_age.FullTime, color = \"orange\")\n",
    "plt.ylabel(\"% Difference in Hourly Earnings\")\n",
    "plt.xlabel(\"Age Group\")\n",
    "plt.title(\"Distribution of Wage Gaps Over Age Groups in Full Time Positions\");\n",
    "# 18-39 kam ho gaya - not cuz of family commitments"
   ]
  },
  {
   "cell_type": "markdown",
   "metadata": {},
   "source": [
    "Now, we can clearly see that for ages 18-39 the wage gap is quite low. This could be due to a number of reasons. My hypothesis is:\n",
    "- Those who are 40 and above have been working since a time when the issue of wage gap was not in the forefront. These salaries were not corrected based on modern research about wage gaps\n",
    "\n",
    "But, one thing we can definitely conclude from this chart is that marriage and children and other family commitments do non contribute to wage gaps as much as one might assume. 25-35 is the general age (assumption) that most women give birth to their children. These years fall in the bins with least wage gap. Maternity leaves and family commitments do not have an impact on salary."
   ]
  },
  {
   "cell_type": "markdown",
   "metadata": {},
   "source": [
    "When we talk about discrimination, we think of two aspects:\n",
    "- Sex\n",
    "- Race\n",
    "\n",
    "Race could be a contributing factor to wage gap in today's world. Let's have a look."
   ]
  },
  {
   "cell_type": "code",
   "execution_count": 46,
   "metadata": {
    "scrolled": true
   },
   "outputs": [
    {
     "data": {
      "image/png": "[encoded data removed]",
      "text/plain": [
       "<Figure size 432x288 with 1 Axes>"
      ]
     },
     "metadata": {
      "needs_background": "light"
     },
     "output_type": "display_data"
    }
   ],
   "source": [
    "gender_race[gender_race.Year == 2018].pivot(\"Race\", \"Gender\", \"MedianWeekly\").plot(kind='bar')\n",
    "plt.title('Weekly Median Salaries per Race and Gender, 2018')\n",
    "plt.xlabel(\"Race\")\n",
    "plt.ylabel(\"Weekly Median Salary in $\");"
   ]
  },
  {
   "cell_type": "markdown",
   "metadata": {},
   "source": [
    "While we see that different races are paid differently, it is a general trend that women are paid less than men of the same race. We observe here that the lesser the overall pay of a race, the lesser is the gap between the salaries of men and women. Asian men get paid the most, but there is utter disparity between the men and women - while men get paid over $1200 weekly, women earn less than $1000. However, this is on an absolute scale, and it may be worth the while to check the percentage difference. "
   ]
  },
  {
   "cell_type": "markdown",
   "metadata": {},
   "source": [
    "Lastly, for this analysis we want to consider location. Although we have data only for London, we still would like to discuss how location might play a part in determining wage gap."
   ]
  },
  {
   "cell_type": "code",
   "execution_count": 47,
   "metadata": {},
   "outputs": [
    {
     "data": {
      "image/png": "[encoded data removed]",
      "text/plain": [
       "<Figure size 432x288 with 1 Axes>"
      ]
     },
     "metadata": {
      "needs_background": "light"
     },
     "output_type": "display_data"
    }
   ],
   "source": [
    "diff = np.divide(np.subtract(location_pay.maleWeekly2017, location_pay.femaleWeekly2017), location_pay.maleWeekly2017) * 100\n",
    "plt.bar(location_pay.Area, diff)\n",
    "plt.xticks(rotation = (90));\n",
    "plt.xlabel(\"Area\")\n",
    "plt.ylabel(\"Wage Gap % (Men over Women)\")\n",
    "plt.title(\"Distribution of Wage Gap Over Area\");"
   ]
  },
  {
   "cell_type": "markdown",
   "metadata": {},
   "source": [
    "London follows the trend of men earninng more than women, exception in the town of Sutton. What factors might lead to that are boyond the scope of this analysis; however, it could prove useful to dig deep into locational influences. London City , being an urban hotspot has the second highest wage gap (in percentage). This may be due to the excessive number of people who are employed there. It may not be feasible to correct the wage gap issue as quick as one might want to. "
   ]
  },
  {
   "cell_type": "code",
   "execution_count": 25,
   "metadata": {},
   "outputs": [],
   "source": [
    "location_pay['diff'] =diff\n",
    "location_pay.sort_values('diff', ascending=False)"
   ]
  },
  {
   "cell_type": "code",
   "execution_count": 48,
   "metadata": {
    "scrolled": true
   },
   "outputs": [
    {
     "data": {
      "text/html": [
       "<div>\n",
       "<style scoped>\n",
       "    .dataframe tbody tr th:only-of-type {\n",
       "        vertical-align: middle;\n",
       "    }\n",
       "\n",
       "    .dataframe tbody tr th {\n",
       "        vertical-align: top;\n",
       "    }\n",
       "\n",
       "    .dataframe thead th {\n",
       "        text-align: right;\n",
       "    }\n",
       "</style>\n",
       "<table border=\"1\" class=\"dataframe\">\n",
       "  <thead>\n",
       "    <tr style=\"text-align: right;\">\n",
       "      <th></th>\n",
       "      <th>Area</th>\n",
       "      <th>femaleWeekly2017</th>\n",
       "      <th>maleWeekly2017</th>\n",
       "      <th>diff</th>\n",
       "    </tr>\n",
       "  </thead>\n",
       "  <tbody>\n",
       "    <tr>\n",
       "      <th>25</th>\n",
       "      <td>Redbridge</td>\n",
       "      <td>394.3</td>\n",
       "      <td>631.4</td>\n",
       "      <td>37.551473</td>\n",
       "    </tr>\n",
       "    <tr>\n",
       "      <th>0</th>\n",
       "      <td>City of London</td>\n",
       "      <td>799.6</td>\n",
       "      <td>1149.9</td>\n",
       "      <td>30.463519</td>\n",
       "    </tr>\n",
       "    <tr>\n",
       "      <th>29</th>\n",
       "      <td>Tower Hamlets</td>\n",
       "      <td>734.3</td>\n",
       "      <td>1037.4</td>\n",
       "      <td>29.217274</td>\n",
       "    </tr>\n",
       "    <tr>\n",
       "      <th>4</th>\n",
       "      <td>Brent</td>\n",
       "      <td>468.7</td>\n",
       "      <td>628.1</td>\n",
       "      <td>25.378125</td>\n",
       "    </tr>\n",
       "    <tr>\n",
       "      <th>24</th>\n",
       "      <td>Newham</td>\n",
       "      <td>480.4</td>\n",
       "      <td>639.1</td>\n",
       "      <td>24.831795</td>\n",
       "    </tr>\n",
       "    <tr>\n",
       "      <th>1</th>\n",
       "      <td>Barking and Dagenham</td>\n",
       "      <td>493.2</td>\n",
       "      <td>656.1</td>\n",
       "      <td>24.828532</td>\n",
       "    </tr>\n",
       "    <tr>\n",
       "      <th>30</th>\n",
       "      <td>Waltham Forest</td>\n",
       "      <td>493.8</td>\n",
       "      <td>639.4</td>\n",
       "      <td>22.771348</td>\n",
       "    </tr>\n",
       "    <tr>\n",
       "      <th>36</th>\n",
       "      <td>East Midlands</td>\n",
       "      <td>430.4</td>\n",
       "      <td>545.9</td>\n",
       "      <td>21.157721</td>\n",
       "    </tr>\n",
       "    <tr>\n",
       "      <th>18</th>\n",
       "      <td>Islington</td>\n",
       "      <td>665.1</td>\n",
       "      <td>843.3</td>\n",
       "      <td>21.131270</td>\n",
       "    </tr>\n",
       "    <tr>\n",
       "      <th>9</th>\n",
       "      <td>Enfield</td>\n",
       "      <td>491.0</td>\n",
       "      <td>615.7</td>\n",
       "      <td>20.253370</td>\n",
       "    </tr>\n",
       "    <tr>\n",
       "      <th>31</th>\n",
       "      <td>Wandsworth</td>\n",
       "      <td>563.0</td>\n",
       "      <td>704.9</td>\n",
       "      <td>20.130515</td>\n",
       "    </tr>\n",
       "    <tr>\n",
       "      <th>6</th>\n",
       "      <td>Camden</td>\n",
       "      <td>628.6</td>\n",
       "      <td>785.8</td>\n",
       "      <td>20.005090</td>\n",
       "    </tr>\n",
       "    <tr>\n",
       "      <th>37</th>\n",
       "      <td>West Midlands</td>\n",
       "      <td>451.4</td>\n",
       "      <td>562.0</td>\n",
       "      <td>19.679715</td>\n",
       "    </tr>\n",
       "    <tr>\n",
       "      <th>14</th>\n",
       "      <td>Harrow</td>\n",
       "      <td>496.2</td>\n",
       "      <td>617.7</td>\n",
       "      <td>19.669743</td>\n",
       "    </tr>\n",
       "    <tr>\n",
       "      <th>13</th>\n",
       "      <td>Haringey</td>\n",
       "      <td>513.7</td>\n",
       "      <td>639.2</td>\n",
       "      <td>19.633917</td>\n",
       "    </tr>\n",
       "    <tr>\n",
       "      <th>8</th>\n",
       "      <td>Ealing</td>\n",
       "      <td>502.6</td>\n",
       "      <td>622.7</td>\n",
       "      <td>19.286976</td>\n",
       "    </tr>\n",
       "    <tr>\n",
       "      <th>40</th>\n",
       "      <td>South East</td>\n",
       "      <td>504.0</td>\n",
       "      <td>621.5</td>\n",
       "      <td>18.905873</td>\n",
       "    </tr>\n",
       "    <tr>\n",
       "      <th>39</th>\n",
       "      <td>London</td>\n",
       "      <td>622.9</td>\n",
       "      <td>766.6</td>\n",
       "      <td>18.745108</td>\n",
       "    </tr>\n",
       "    <tr>\n",
       "      <th>19</th>\n",
       "      <td>Kensington and Chelsea</td>\n",
       "      <td>561.6</td>\n",
       "      <td>689.9</td>\n",
       "      <td>18.596898</td>\n",
       "    </tr>\n",
       "    <tr>\n",
       "      <th>38</th>\n",
       "      <td>East</td>\n",
       "      <td>478.4</td>\n",
       "      <td>587.5</td>\n",
       "      <td>18.570213</td>\n",
       "    </tr>\n",
       "    <tr>\n",
       "      <th>35</th>\n",
       "      <td>Yorkshire and The Humber</td>\n",
       "      <td>442.7</td>\n",
       "      <td>543.5</td>\n",
       "      <td>18.546458</td>\n",
       "    </tr>\n",
       "    <tr>\n",
       "      <th>41</th>\n",
       "      <td>South West</td>\n",
       "      <td>459.8</td>\n",
       "      <td>563.4</td>\n",
       "      <td>18.388356</td>\n",
       "    </tr>\n",
       "    <tr>\n",
       "      <th>32</th>\n",
       "      <td>Westminster</td>\n",
       "      <td>670.8</td>\n",
       "      <td>818.1</td>\n",
       "      <td>18.005134</td>\n",
       "    </tr>\n",
       "    <tr>\n",
       "      <th>22</th>\n",
       "      <td>Lewisham</td>\n",
       "      <td>538.5</td>\n",
       "      <td>654.6</td>\n",
       "      <td>17.736022</td>\n",
       "    </tr>\n",
       "    <tr>\n",
       "      <th>2</th>\n",
       "      <td>Barnet</td>\n",
       "      <td>542.2</td>\n",
       "      <td>657.7</td>\n",
       "      <td>17.561198</td>\n",
       "    </tr>\n",
       "    <tr>\n",
       "      <th>23</th>\n",
       "      <td>Merton</td>\n",
       "      <td>540.4</td>\n",
       "      <td>654.0</td>\n",
       "      <td>17.370031</td>\n",
       "    </tr>\n",
       "    <tr>\n",
       "      <th>45</th>\n",
       "      <td>England</td>\n",
       "      <td>496.4</td>\n",
       "      <td>599.4</td>\n",
       "      <td>17.183851</td>\n",
       "    </tr>\n",
       "    <tr>\n",
       "      <th>26</th>\n",
       "      <td>Richmond upon Thames</td>\n",
       "      <td>542.4</td>\n",
       "      <td>654.2</td>\n",
       "      <td>17.089575</td>\n",
       "    </tr>\n",
       "    <tr>\n",
       "      <th>46</th>\n",
       "      <td>England and Wales</td>\n",
       "      <td>493.5</td>\n",
       "      <td>595.2</td>\n",
       "      <td>17.086694</td>\n",
       "    </tr>\n",
       "    <tr>\n",
       "      <th>33</th>\n",
       "      <td>North East</td>\n",
       "      <td>452.3</td>\n",
       "      <td>545.1</td>\n",
       "      <td>17.024399</td>\n",
       "    </tr>\n",
       "    <tr>\n",
       "      <th>47</th>\n",
       "      <td>Great Britain</td>\n",
       "      <td>494.0</td>\n",
       "      <td>594.1</td>\n",
       "      <td>16.849015</td>\n",
       "    </tr>\n",
       "    <tr>\n",
       "      <th>20</th>\n",
       "      <td>Kingston upon Thames</td>\n",
       "      <td>519.7</td>\n",
       "      <td>622.9</td>\n",
       "      <td>16.567667</td>\n",
       "    </tr>\n",
       "    <tr>\n",
       "      <th>48</th>\n",
       "      <td>United Kingdom</td>\n",
       "      <td>493.6</td>\n",
       "      <td>591.5</td>\n",
       "      <td>16.551141</td>\n",
       "    </tr>\n",
       "    <tr>\n",
       "      <th>34</th>\n",
       "      <td>North West</td>\n",
       "      <td>464.6</td>\n",
       "      <td>550.1</td>\n",
       "      <td>15.542629</td>\n",
       "    </tr>\n",
       "    <tr>\n",
       "      <th>7</th>\n",
       "      <td>Croydon</td>\n",
       "      <td>555.5</td>\n",
       "      <td>653.0</td>\n",
       "      <td>14.931087</td>\n",
       "    </tr>\n",
       "    <tr>\n",
       "      <th>43</th>\n",
       "      <td>Scotland</td>\n",
       "      <td>498.3</td>\n",
       "      <td>579.9</td>\n",
       "      <td>14.071392</td>\n",
       "    </tr>\n",
       "    <tr>\n",
       "      <th>17</th>\n",
       "      <td>Hounslow</td>\n",
       "      <td>597.3</td>\n",
       "      <td>695.0</td>\n",
       "      <td>14.057554</td>\n",
       "    </tr>\n",
       "    <tr>\n",
       "      <th>27</th>\n",
       "      <td>Southwark</td>\n",
       "      <td>659.2</td>\n",
       "      <td>766.6</td>\n",
       "      <td>14.009914</td>\n",
       "    </tr>\n",
       "    <tr>\n",
       "      <th>44</th>\n",
       "      <td>Wales</td>\n",
       "      <td>457.6</td>\n",
       "      <td>525.1</td>\n",
       "      <td>12.854694</td>\n",
       "    </tr>\n",
       "    <tr>\n",
       "      <th>16</th>\n",
       "      <td>Hillingdon</td>\n",
       "      <td>587.0</td>\n",
       "      <td>667.5</td>\n",
       "      <td>12.059925</td>\n",
       "    </tr>\n",
       "    <tr>\n",
       "      <th>21</th>\n",
       "      <td>Lambeth</td>\n",
       "      <td>648.4</td>\n",
       "      <td>731.3</td>\n",
       "      <td>11.335977</td>\n",
       "    </tr>\n",
       "    <tr>\n",
       "      <th>5</th>\n",
       "      <td>Bromley</td>\n",
       "      <td>525.7</td>\n",
       "      <td>586.8</td>\n",
       "      <td>10.412406</td>\n",
       "    </tr>\n",
       "    <tr>\n",
       "      <th>12</th>\n",
       "      <td>Hammersmith and Fulham</td>\n",
       "      <td>651.3</td>\n",
       "      <td>714.2</td>\n",
       "      <td>8.807057</td>\n",
       "    </tr>\n",
       "    <tr>\n",
       "      <th>11</th>\n",
       "      <td>Hackney</td>\n",
       "      <td>611.3</td>\n",
       "      <td>669.6</td>\n",
       "      <td>8.706691</td>\n",
       "    </tr>\n",
       "    <tr>\n",
       "      <th>10</th>\n",
       "      <td>Greenwich</td>\n",
       "      <td>565.8</td>\n",
       "      <td>617.8</td>\n",
       "      <td>8.416963</td>\n",
       "    </tr>\n",
       "    <tr>\n",
       "      <th>3</th>\n",
       "      <td>Bexley</td>\n",
       "      <td>554.2</td>\n",
       "      <td>599.6</td>\n",
       "      <td>7.571714</td>\n",
       "    </tr>\n",
       "    <tr>\n",
       "      <th>15</th>\n",
       "      <td>Havering</td>\n",
       "      <td>544.3</td>\n",
       "      <td>586.2</td>\n",
       "      <td>7.147731</td>\n",
       "    </tr>\n",
       "    <tr>\n",
       "      <th>42</th>\n",
       "      <td>Northern Ireland</td>\n",
       "      <td>482.4</td>\n",
       "      <td>514.9</td>\n",
       "      <td>6.311905</td>\n",
       "    </tr>\n",
       "    <tr>\n",
       "      <th>28</th>\n",
       "      <td>Sutton</td>\n",
       "      <td>571.7</td>\n",
       "      <td>554.9</td>\n",
       "      <td>-3.027573</td>\n",
       "    </tr>\n",
       "  </tbody>\n",
       "</table>\n",
       "</div>"
      ],
      "text/plain": [
       "                        Area  femaleWeekly2017  maleWeekly2017       diff\n",
       "25                 Redbridge             394.3           631.4  37.551473\n",
       "0             City of London             799.6          1149.9  30.463519\n",
       "29             Tower Hamlets             734.3          1037.4  29.217274\n",
       "4                      Brent             468.7           628.1  25.378125\n",
       "24                    Newham             480.4           639.1  24.831795\n",
       "1       Barking and Dagenham             493.2           656.1  24.828532\n",
       "30            Waltham Forest             493.8           639.4  22.771348\n",
       "36             East Midlands             430.4           545.9  21.157721\n",
       "18                 Islington             665.1           843.3  21.131270\n",
       "9                    Enfield             491.0           615.7  20.253370\n",
       "31                Wandsworth             563.0           704.9  20.130515\n",
       "6                     Camden             628.6           785.8  20.005090\n",
       "37             West Midlands             451.4           562.0  19.679715\n",
       "14                    Harrow             496.2           617.7  19.669743\n",
       "13                  Haringey             513.7           639.2  19.633917\n",
       "8                     Ealing             502.6           622.7  19.286976\n",
       "40                South East             504.0           621.5  18.905873\n",
       "39                    London             622.9           766.6  18.745108\n",
       "19    Kensington and Chelsea             561.6           689.9  18.596898\n",
       "38                      East             478.4           587.5  18.570213\n",
       "35  Yorkshire and The Humber             442.7           543.5  18.546458\n",
       "41                South West             459.8           563.4  18.388356\n",
       "32               Westminster             670.8           818.1  18.005134\n",
       "22                  Lewisham             538.5           654.6  17.736022\n",
       "2                     Barnet             542.2           657.7  17.561198\n",
       "23                    Merton             540.4           654.0  17.370031\n",
       "45                   England             496.4           599.4  17.183851\n",
       "26      Richmond upon Thames             542.4           654.2  17.089575\n",
       "46         England and Wales             493.5           595.2  17.086694\n",
       "33                North East             452.3           545.1  17.024399\n",
       "47             Great Britain             494.0           594.1  16.849015\n",
       "20      Kingston upon Thames             519.7           622.9  16.567667\n",
       "48            United Kingdom             493.6           591.5  16.551141\n",
       "34                North West             464.6           550.1  15.542629\n",
       "7                    Croydon             555.5           653.0  14.931087\n",
       "43                  Scotland             498.3           579.9  14.071392\n",
       "17                  Hounslow             597.3           695.0  14.057554\n",
       "27                 Southwark             659.2           766.6  14.009914\n",
       "44                     Wales             457.6           525.1  12.854694\n",
       "16                Hillingdon             587.0           667.5  12.059925\n",
       "21                   Lambeth             648.4           731.3  11.335977\n",
       "5                    Bromley             525.7           586.8  10.412406\n",
       "12    Hammersmith and Fulham             651.3           714.2   8.807057\n",
       "11                   Hackney             611.3           669.6   8.706691\n",
       "10                 Greenwich             565.8           617.8   8.416963\n",
       "3                     Bexley             554.2           599.6   7.571714\n",
       "15                  Havering             544.3           586.2   7.147731\n",
       "42          Northern Ireland             482.4           514.9   6.311905\n",
       "28                    Sutton             571.7           554.9  -3.027573"
      ]
     },
     "execution_count": 48,
     "metadata": {},
     "output_type": "execute_result"
    }
   ],
   "source": [
    "location_pay.sort_values('diff', ascending=False)"
   ]
  },
  {
   "cell_type": "markdown",
   "metadata": {},
   "source": [
    "Lastly, we'd like to showcase Google's study of gender pay gap. Although the proportion of employees receiving bonus is same for men and women, the gap in hourly and bonus pay is highly disappointing. However, Google has acknowledged the importance of closing this gap, and has chalked out a plan to do so. It is important in today's world that leading companies take the initative to make their industries a non-discriminative place to be, so that others can follow and realize this vision of equality. (https://static.googleusercontent.com/media/diversity.google/en//static/pdf/uk-gender-pay-report-2017.pdf)"
   ]
  },
  {
   "cell_type": "markdown",
   "metadata": {},
   "source": [
    "![Wage Gap](google.JPG)"
   ]
  }
 ],
 "metadata": {
  "kernelspec": {
   "display_name": "Python 3",
   "language": "python",
   "name": "python3"
  },
  "language_info": {
   "codemirror_mode": {
    "name": "ipython",
    "version": 3
   },
   "file_extension": ".py",
   "mimetype": "text/x-python",
   "name": "python",
   "nbconvert_exporter": "python",
   "pygments_lexer": "ipython3",
   "version": "3.6.8"
  }
 },
 "nbformat": 4,
 "nbformat_minor": 2
}
